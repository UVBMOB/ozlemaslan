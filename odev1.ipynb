{
 "cells": [
  {
   "cell_type": "code",
   "execution_count": 93,
   "metadata": {},
   "outputs": [],
   "source": [
    "import numpy as np\n",
    "from scipy.stats import binom"
   ]
  },
  {
   "cell_type": "code",
   "execution_count": 104,
   "metadata": {},
   "outputs": [
    {
     "name": "stdout",
     "output_type": "stream",
     "text": [
      "0.0916442871093751\n",
      "0.940765380859375\n"
     ]
    }
   ],
   "source": [
    "#veri_binom = binom.rvs(n = 15, p = 0.5, size = 10000) \n",
    "class Veri():\n",
    "    def __init__(self,n,p,k):\n",
    "        self.n=n #ortalama\n",
    "        self.p=p #standart sapma\n",
    "        self.k=k\n",
    "    def pdfbul(self):\n",
    "        pdf1=stats.binom.pmf(self.k,self.n,self.p)# pmf=pdf binom dağılımda \n",
    "        print(pdf1)\n",
    "    def cdfbul(self):\n",
    "        cdf1=stats.binom.cdf(self.k,self.n,self.p)\n",
    "        print(cdf1)\n",
    "        \n",
    "\n",
    "\n",
    "binom1 = Veri(15,0.5,10)\n",
    "binom1.pdfbul()\n",
    "binom1.cdfbul()"
   ]
  },
  {
   "cell_type": "raw",
   "metadata": {},
   "source": []
  },
  {
   "cell_type": "code",
   "execution_count": null,
   "metadata": {},
   "outputs": [],
   "source": []
  },
  {
   "cell_type": "code",
   "execution_count": null,
   "metadata": {},
   "outputs": [],
   "source": []
  }
 ],
 "metadata": {
  "kernelspec": {
   "display_name": "Python 3",
   "language": "python",
   "name": "python3"
  },
  "language_info": {
   "codemirror_mode": {
    "name": "ipython",
    "version": 3
   },
   "file_extension": ".py",
   "mimetype": "text/x-python",
   "name": "python",
   "nbconvert_exporter": "python",
   "pygments_lexer": "ipython3",
   "version": "3.6.8"
  }
 },
 "nbformat": 4,
 "nbformat_minor": 2
}
